{
 "cells": [
  {
   "cell_type": "markdown",
   "source": [
    "### Dataset Description\n",
    "I have to predict the probability that an online transaction is fraudulent, as denoted by the binary target isFraud.\n",
    "\n",
    "The data is broken into two files identity and transaction, which are joined by TransactionID. Not all transactions have corresponding identity information.\n",
    "\n",
    "**Categorical Features - Transaction**\n",
    "- ProductCD\n",
    "- card1 - card6\n",
    "- addr1, addr2\n",
    "- P_emaildomain\n",
    "- R_emaildomain\n",
    "- M1 - M9\n",
    "\n",
    "**Categorical Features - Identity**\n",
    "- DeviceType\n",
    "- DeviceInfo\n",
    "- id_12 - id_38\n",
    "- The TransactionDT feature is a timedelta from a given reference datetime (not an actual timestamp).\n",
    "\n",
    "You can read more about the data from this post by the competition host.\n",
    "\n",
    "**Files**\n",
    "- train_{transaction, identity}.csv - the training set\n",
    "- test_{transaction, identity}.csv - the test set (you must predict the isFraud value for these observations)\n",
    "- sample_submission.csv - a sample submission file in the correct format"
   ],
   "metadata": {
    "collapsed": false
   },
   "id": "aad10ddada7c3027"
  },
  {
   "cell_type": "markdown",
   "source": [
    "## Exploratory Data Analysis\n",
    "\n"
   ],
   "metadata": {
    "collapsed": false
   },
   "id": "ff6933058fd3332c"
  },
  {
   "cell_type": "code",
   "execution_count": 6,
   "id": "initial_id",
   "metadata": {
    "collapsed": true,
    "ExecuteTime": {
     "end_time": "2023-11-04T14:52:44.912835726Z",
     "start_time": "2023-11-04T14:52:44.707492080Z"
    }
   },
   "outputs": [],
   "source": [
    "import os\n",
    "import pandas as pd"
   ]
  },
  {
   "cell_type": "code",
   "execution_count": 7,
   "outputs": [],
   "source": [
    "DATA_FOLDER = './data'"
   ],
   "metadata": {
    "collapsed": false,
    "ExecuteTime": {
     "end_time": "2023-11-04T14:52:45.925075366Z",
     "start_time": "2023-11-04T14:52:45.923946662Z"
    }
   },
   "id": "1ed3890f9f50e162"
  },
  {
   "cell_type": "code",
   "execution_count": 8,
   "outputs": [],
   "source": [
    "def get_dataframe(file_name):\n",
    "    return pd.read_csv(os.path.join(DATA_FOLDER,file_name))"
   ],
   "metadata": {
    "collapsed": false,
    "ExecuteTime": {
     "end_time": "2023-11-04T14:52:46.506560590Z",
     "start_time": "2023-11-04T14:52:46.505067051Z"
    }
   },
   "id": "b6be5f61e42273f9"
  },
  {
   "cell_type": "code",
   "execution_count": 13,
   "outputs": [],
   "source": [
    "# Load dataframes and merge train and test\n",
    "train_identity = get_dataframe('train_identity.csv')\n",
    "test_identity = get_dataframe('test_identity.csv')\n",
    "train_transaction = get_dataframe('train_transaction.csv')\n",
    "test_transaction = get_dataframe('test_transaction.csv')\n",
    "\n",
    "train = pd.merge(left=train_transaction, right=train_identity, how=\"left\", on=\"TransactionID\")\n",
    "test = pd.merge(left=test_transaction, right=test_identity, how=\"left\", on=\"TransactionID\")"
   ],
   "metadata": {
    "collapsed": false,
    "ExecuteTime": {
     "end_time": "2023-11-04T14:59:20.574126649Z",
     "start_time": "2023-11-04T14:59:02.192658134Z"
    }
   },
   "id": "1dbe80138b31d027"
  },
  {
   "cell_type": "code",
   "execution_count": 15,
   "outputs": [
    {
     "name": "stdout",
     "output_type": "stream",
     "text": [
      "Train shape: (590540, 434)\n",
      "Test shape: (506691, 433)\n"
     ]
    }
   ],
   "source": [
    "# check shapes of train and test dataset\n",
    "print(f'Train shape: {train.shape}')\n",
    "print(f'Test shape: {test.shape}')"
   ],
   "metadata": {
    "collapsed": false,
    "ExecuteTime": {
     "end_time": "2023-11-04T14:59:56.627146296Z",
     "start_time": "2023-11-04T14:59:56.585161118Z"
    }
   },
   "id": "fbd86035486f99c0"
  },
  {
   "cell_type": "code",
   "execution_count": 16,
   "outputs": [],
   "source": [
    "del train_identity, test_identity, train_transaction, test_transaction"
   ],
   "metadata": {
    "collapsed": false,
    "ExecuteTime": {
     "end_time": "2023-11-04T15:01:02.789672833Z",
     "start_time": "2023-11-04T15:01:02.746528691Z"
    }
   },
   "id": "4e00839d64c9829f"
  }
 ],
 "metadata": {
  "kernelspec": {
   "display_name": "Python 3",
   "language": "python",
   "name": "python3"
  },
  "language_info": {
   "codemirror_mode": {
    "name": "ipython",
    "version": 2
   },
   "file_extension": ".py",
   "mimetype": "text/x-python",
   "name": "python",
   "nbconvert_exporter": "python",
   "pygments_lexer": "ipython2",
   "version": "2.7.6"
  }
 },
 "nbformat": 4,
 "nbformat_minor": 5
}
